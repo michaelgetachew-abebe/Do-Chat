{
 "cells": [
  {
   "cell_type": "code",
   "execution_count": 2,
   "metadata": {},
   "outputs": [],
   "source": [
    "import os\n",
    "import sys\n",
    "import requests\n",
    "from typing import Any, List, Mapping, Optional\n",
    "from langchain.document_loaders import PyPDFLoader\n",
    "from langchain.text_splitter import CharacterTextSplitter\n",
    "from langchain.chains.question_answering import load_qa_chain\n",
    "from langchain import FAISS\n",
    "from langchain_community.embeddings import HuggingFaceEmbeddings\n",
    "from langchain.callbacks.manager import CallbackManagerForLLMRun\n",
    "from langchain.llms.base import LLM"
   ]
  },
  {
   "cell_type": "code",
   "execution_count": 3,
   "metadata": {},
   "outputs": [],
   "source": [
    "loader = PyPDFLoader(\"./data-preprocessing-for-imbalanced-data.pdf\")\n",
    "pages = loader.load()"
   ]
  },
  {
   "cell_type": "code",
   "execution_count": 4,
   "metadata": {},
   "outputs": [
    {
     "data": {
      "text/plain": [
       "22"
      ]
     },
     "execution_count": 4,
     "metadata": {},
     "output_type": "execute_result"
    }
   ],
   "source": [
    "len(pages)"
   ]
  },
  {
   "cell_type": "code",
   "execution_count": 5,
   "metadata": {},
   "outputs": [],
   "source": [
    "def document_processor(doc):\n",
    "    text_splitter = CharacterTextSplitter(\n",
    "        separator=\"\\n\",\n",
    "        chunk_size = 1000,\n",
    "        chunk_overlap = 200,\n",
    "        length_function = len\n",
    "    )\n",
    "    chunks = text_splitter.split_text(doc)\n",
    "\n",
    "    emb = HuggingFaceEmbeddings()\n",
    "    knowledgeBase = FAISS.from_texts(chunks, emb)\n",
    "\n",
    "    return knowledgeBase"
   ]
  },
  {
   "cell_type": "code",
   "execution_count": 6,
   "metadata": {},
   "outputs": [
    {
     "data": {
      "text/plain": [
       "Document(page_content=' \\n  \\nA Study of Data Pre -processing Techniques for Imbalanced Biomedical \\nData Classification  \\nShigang  Liu*; Jun  Zhang *; Yang Xiang; Wanlei Zhou; Dongxi Xiang \\nAddress:  \\nDepartment of Computer Science and Software Engineering , Swinburne University of \\nTechnology, Hawthorn , VIC 3122, Australia , email:  shigangliu@swin.edu.au \\nDepartment of Computer Science and Software Engineering , Swinburne University of \\nTechnology, Hawthorn , VIC 3122, Australia , email: junzhang@swin.edu.au \\nDepartment of Computer Science and Software Engineering , Swinburne University of \\nTechnology, Hawthorn , VIC 3122, Australia , yxiang@swin.edu.au  \\nSchool of Information Technology, Deakin University , Burwood, VIC 3125, Australia , \\nemail: wanlei@deakin.edu.au  \\nDepartment of Genetics, Harvard Medical School , Boston MA 02115, American , email:  \\ndxiangmedsci@gmail.com \\n \\nBiographical notes: \\nShigang Liu is a research fellow with School  of Software and Electrical Engineering, \\nSwinburne University of Technology. His research interests include applied mac hine \\nlearning, data analytics  and so on . \\nJun Zhang is an Associate Professor with  School  of Software and Electrical Engineering, \\nand the Deputy  Director of Swinburne Cybersecurity Lab, Swinburne University of \\nTechnology, Australia. His research interests include cybersecurity and applied machine \\nlearning. \\nYang Xiang is the Dean of Digital Research & Innovation Capability Platform, Swi nburne \\nUniversity of Technology, Australia. His research interests include data analytics, cyber \\nsecurity  and so on . \\nWanlei  Zhou is currently the Alfred Deakin Professor (the highest honour the University \\ncan bestow on a member of academic staff) and Associate Dean - International Research \\nEngagement, Deakin University. His research interests include bioinformatics, E -\\nlearning and so on.  \\nDongxi Xiang is a Research Fellow with Department of Genetics, Harvard Medical School. \\nHis research interests include Breast Cancer, Cancer Stem Cell, Apta mer and Targeted \\nCancer Therapy . \\n  *Corresponding author  \\nAbstract — Biomedical  data are widely accepted in developing prediction models for  identifying a specific \\ntumor , drug discovery and classification of human cancers. However,  previous studies usually focused on \\ndifferent classifiers, and overlook the class imbalance problem in real-world biomedical datasets. There \\nare a lack of studies on evaluation of data pre-processing techniques, such as resampling and feature ', metadata={'source': './data-preprocessing-for-imbalanced-data.pdf', 'page': 0})"
      ]
     },
     "execution_count": 6,
     "metadata": {},
     "output_type": "execute_result"
    }
   ],
   "source": [
    "pages[0]"
   ]
  },
  {
   "cell_type": "code",
   "execution_count": 8,
   "metadata": {},
   "outputs": [],
   "source": [
    "text = \"\"\n",
    "\n",
    "for i in range(len(pages)):\n",
    "    text += pages[i].page_content\n",
    "\n",
    "knowledge = document_processor(text)\n",
    "\n",
    "query = \"What is imbalanced data\"\n",
    "\n",
    "docs = knowledge.similarity_search(query)"
   ]
  },
  {
   "cell_type": "code",
   "execution_count": 21,
   "metadata": {},
   "outputs": [],
   "source": [
    "text = \"\"\n",
    "for doc in docs:\n",
    "    text += str(doc)[13:]"
   ]
  },
  {
   "cell_type": "code",
   "execution_count": 23,
   "metadata": {},
   "outputs": [
    {
     "name": "stdout",
     "output_type": "stream",
     "text": [
      "'been conducted before. Most i mportantly, data distribution has  never been considered in previous  imbalanced \\nbiomedical data studies.   \\nDifferent from other related work, the experimentation study in this paper mainly  focuses  on resampling and feature \\nselection techniques  in class imbalance problem  with data distribution being considered as well . The main \\ncontribution s of this paper are as  follows : (1) we have conducted  an extensive experiment  study and (2) the relationship  \\nbetween  data distributions and different class imbalance  learning techniques have been discussed. Precisely, for the \\nformer  contribution: f irstly, our study focuses  on recently developed and popular ly used sampling techniques . In the \\nmeantime, considering that feature selection (FS) is also beneficial to imbalanced data learning, one of the recently \\ndeveloped FS approach es is also employed in this study (Yu et al. 2014). Secondly, five classification algorithms have''A Study of Data Pre -processing Techniques for Imbalanced Biomedical \\nData Classification  \\nShigang  Liu*; Jun  Zhang *; Yang Xiang; Wanlei Zhou; Dongxi Xiang \\nAddress:  \\nDepartment of Computer Science and Software Engineering , Swinburne University of \\nTechnology, Hawthorn , VIC 3122, Australia , email:  shigangliu@swin.edu.au \\nDepartment of Computer Science and Software Engineering , Swinburne University of \\nTechnology, Hawthorn , VIC 3122, Australia , email: junzhang@swin.edu.au \\nDepartment of Computer Science and Software Engineering , Swinburne University of \\nTechnology, Hawthorn , VIC 3122, Australia , yxiang@swin.edu.au  \\nSchool of Information Technology, Deakin University , Burwood, VIC 3125, Australia , \\nemail: wanlei@deakin.edu.au  \\nDepartment of Genetics, Harvard Medical School , Boston MA 02115, American , email:  \\ndxiangmedsci@gmail.com \\n \\nBiographical notes: \\nShigang Liu is a research fellow with School  of Software and Electrical Engineering,''poorly with the minority class. Traditional machine learning algorithms are desired to maximize overall number of \\ncorrect predictions without giving enough consideration of the minority examples. For exa mple, given a dataset, where \\nfive percent and ninety -five percent are minority class samples and majority class samples, respectively. If a classifier \\nrecognizes all data as the majority class, the classification accuracy would be ninety -five percent. Howe ver, this \\nclassifier is not useful in practice.  For many real -world problems, the class of interest is the minority class. How to \\naccurately identify the minority class sample is a more challenging problem. The problem has drawn significant \\ninterest since the year 2000 from data mining, knowledge discovery, machine learning and artificial intelligence. \\nImbalanced learning has become an especially hot topic under some special issues (Yu et al. 2013), conference and''bioinformatics area can choose an effective technique  once the distribution of the data is known in advance. To the \\nbest of our knowledge, no previous comprehensive empirical investigations have been performed in comparing the \\nperformance of imbalanced data learning methods  with data distribution being consi dered.  \\nThe rest of the paper is organized as follows. Section II introduces the techniques to be evaluated in this study , while \\nthe details of datasets are presented in S ection III. The experimental design, performance metrics and classification \\nalgorithms are outlined in Section IV. Section V di scusses the experimental result . The c onclusion is  provided in \\nSection VI . 2 Methods to B e Evaluated  \\nGenerally speaking, approach es to classification with imbalanced data issues involve three main categories: \\nresampling, cost -sensitive methods and the ensemble methods (He and Garcia 2009) , (Yang et al. 2014), (Lin et al.'\n"
     ]
    }
   ],
   "source": [
    "print(str(text))"
   ]
  },
  {
   "cell_type": "code",
   "execution_count": 26,
   "metadata": {},
   "outputs": [
    {
     "data": {
      "text/plain": [
       "'{\"system_message\": 2, \"user_message\": 3, \"max_tokens\": 3, \"context\": 3}'"
      ]
     },
     "execution_count": 26,
     "metadata": {},
     "output_type": "execute_result"
    }
   ],
   "source": [
    "import json\n",
    "payload_dict = {\"system_message\" : 2, \"user_message\": 3, \"max_tokens\": 3, \"context\": 3}\n",
    "        \n",
    "json_payload = json.dumps(payload_dict)\n",
    "json_payload"
   ]
  },
  {
   "cell_type": "code",
   "execution_count": 13,
   "metadata": {},
   "outputs": [],
   "source": [
    "from pydantic import Extra\n",
    "import requests\n",
    "from typing import Any, List, Mapping, Optional\n",
    "\n",
    "from langchain.callbacks.manager import CallbackManagerForLLMRun\n",
    "from langchain.llms.base import LLM\n",
    "\n",
    "class LlamaLLM(LLM):\n",
    "    llm_url = 'http://127.0.0.1:5000/invoke_llm'\n",
    "\n",
    "    class Config:\n",
    "        extra = Extra.forbid\n",
    "\n",
    "    @property\n",
    "    def _llm_type(self) -> str:\n",
    "        return \"Llama2 7B\"\n",
    "\n",
    "    def _call(\n",
    "        self,\n",
    "        prompt: str,\n",
    "        stop: Optional[List[str]] = None,\n",
    "        run_manager: Optional[CallbackManagerForLLMRun] = None,\n",
    "        **kwargs: Any,\n",
    "    ) -> str:\n",
    "        if stop is not None:\n",
    "            raise ValueError(\"stop kwargs are not permitted.\")\n",
    "\n",
    "        payload = {\n",
    "            \"inputs\": prompt,\n",
    "            \"parameters\": {\"max_new_tokens\": 1000},\n",
    "            \"token\": \"abcdfejkwehr\"\n",
    "        }\n",
    "\n",
    "        headers = {\"Content-Type\": \"application/json\"}\n",
    "\n",
    "        response = requests.post(self.llm_url, json=payload, headers=headers, verify=False)\n",
    "        response.raise_for_status()\n",
    "\n",
    "        return response.json()['generated_text']  \n",
    "    @property\n",
    "    def _identifying_params(self) -> Mapping[str, Any]:\n",
    "        \"\"\"Get the identifying parameters.\"\"\"\n",
    "        return {\"llmUrl\": self.llm_url}"
   ]
  },
  {
   "cell_type": "code",
   "execution_count": null,
   "metadata": {},
   "outputs": [],
   "source": []
  },
  {
   "cell_type": "code",
   "execution_count": 14,
   "metadata": {},
   "outputs": [],
   "source": [
    "llm = LlamaLLM()\n",
    "chain = load_qa_chain(llm, chain_type='stuff')"
   ]
  },
  {
   "cell_type": "code",
   "execution_count": 9,
   "metadata": {},
   "outputs": [],
   "source": [
    "from langchain.prompts import PromptTemplate\n",
    "template = \"\"\"[INST] <<SYS>>\n",
    "\n",
    "Answer the question base on the context below.\n",
    "\n",
    "<</SYS>>\n",
    "\n",
    "Context: {context}\n",
    "Question: {question}\n",
    "Answer:\n",
    "[/INST]\"\"\""
   ]
  },
  {
   "cell_type": "code",
   "execution_count": 1,
   "metadata": {},
   "outputs": [
    {
     "name": "stdout",
     "output_type": "stream",
     "text": [
      "{'system_message': 'You are a helpful assistant', 'user_message': 'Generate the best five cities for a romantic trip', 'max_tokens': 2000}\n"
     ]
    }
   ],
   "source": [
    "import json\n",
    "payload = \"\"\"{\n",
    "  \"system_message\": \"You are a helpful assistant\",\n",
    "  \"user_message\": \"Generate the best five cities for a romantic trip\",\n",
    "  \"max_tokens\": 2000\n",
    "}\"\"\"\n",
    "json_payload = json.loads(str(payload))\n",
    "\n",
    "print(json_payload)"
   ]
  },
  {
   "cell_type": "code",
   "execution_count": 34,
   "metadata": {},
   "outputs": [
    {
     "name": "stdout",
     "output_type": "stream",
     "text": [
      "  Certainly! Here are five romantic cities around the world that are perfect for a dreamy getaway with your significant other:\n",
      "\n",
      "1. Paris, France - The City of Love: Paris is often referred to as the most romantic city in the world, and for good reason. From the Eiffel Tower to the Louvre, this city is brimming with iconic landmarks that will make your heart melt. Take a stroll along the Seine, visit the Notre-Dame Cathedral, and enjoy a picnic in the Luxembourg Gardens. Don't forget to indulge in some delicious French cuisine and wine to complete your experience.\n",
      "2. Venice, Italy - A Gondola Ride to Remember: Venice is a city like no other, with its winding canals and charming bridges. Take a romantic gondola ride through the city's canals, holding hands with your partner and soaking in the stunning architecture and history. Don't miss the Rialto Bridge, St. Mark's Basilica, and the Grand Canal.\n",
      "3. New York City, USA - The City That Never Sleeps: New York City is a bustling metropolis that never sleeps, and it's a great place to experience the vibrant energy of love. Take a stroll through Central Park, enjoy a Broadway show, or dine at one of the many top-notch restaurants. The Statue of Liberty and Times Square are must-visit attractions, and don't forget to catch a sunset from the Top of the Rock Observation Deck.\n",
      "4. Rome, Italy - The Eternal City: Rome is a city steeped in history and culture, and it's the perfect place to fall in love. Take a stroll through the Colosseum, visit the Pantheon, and enjoy a romantic dinner at one of the many trattorias. Don't miss the Trevi Fountain and the Spanish Steps, and be sure to try some delicious Italian cuisine.\n",
      "5. Sydney, Australia - Harbor City of Dreams: Sydney is known for its stunning beaches\n"
     ]
    }
   ],
   "source": [
    "print(response.json()['choices'][0]['text'].split('[/INST]')[1])"
   ]
  },
  {
   "cell_type": "code",
   "execution_count": 12,
   "metadata": {},
   "outputs": [
    {
     "data": {
      "text/plain": [
       "[Document(page_content='been conducted before. Most i mportantly, data distribution has  never been considered in previous  imbalanced \\nbiomedical data studies.   \\nDifferent from other related work, the experimentation study in this paper mainly  focuses  on resampling and feature \\nselection techniques  in class imbalance problem  with data distribution being considered as well . The main \\ncontribution s of this paper are as  follows : (1) we have conducted  an extensive experiment  study and (2) the relationship  \\nbetween  data distributions and different class imbalance  learning techniques have been discussed. Precisely, for the \\nformer  contribution: f irstly, our study focuses  on recently developed and popular ly used sampling techniques . In the \\nmeantime, considering that feature selection (FS) is also beneficial to imbalanced data learning, one of the recently \\ndeveloped FS approach es is also employed in this study (Yu et al. 2014). Secondly, five classification algorithms have'),\n",
       " Document(page_content='A Study of Data Pre -processing Techniques for Imbalanced Biomedical \\nData Classification  \\nShigang  Liu*; Jun  Zhang *; Yang Xiang; Wanlei Zhou; Dongxi Xiang \\nAddress:  \\nDepartment of Computer Science and Software Engineering , Swinburne University of \\nTechnology, Hawthorn , VIC 3122, Australia , email:  shigangliu@swin.edu.au \\nDepartment of Computer Science and Software Engineering , Swinburne University of \\nTechnology, Hawthorn , VIC 3122, Australia , email: junzhang@swin.edu.au \\nDepartment of Computer Science and Software Engineering , Swinburne University of \\nTechnology, Hawthorn , VIC 3122, Australia , yxiang@swin.edu.au  \\nSchool of Information Technology, Deakin University , Burwood, VIC 3125, Australia , \\nemail: wanlei@deakin.edu.au  \\nDepartment of Genetics, Harvard Medical School , Boston MA 02115, American , email:  \\ndxiangmedsci@gmail.com \\n \\nBiographical notes: \\nShigang Liu is a research fellow with School  of Software and Electrical Engineering,'),\n",
       " Document(page_content='poorly with the minority class. Traditional machine learning algorithms are desired to maximize overall number of \\ncorrect predictions without giving enough consideration of the minority examples. For exa mple, given a dataset, where \\nfive percent and ninety -five percent are minority class samples and majority class samples, respectively. If a classifier \\nrecognizes all data as the majority class, the classification accuracy would be ninety -five percent. Howe ver, this \\nclassifier is not useful in practice.  For many real -world problems, the class of interest is the minority class. How to \\naccurately identify the minority class sample is a more challenging problem. The problem has drawn significant \\ninterest since the year 2000 from data mining, knowledge discovery, machine learning and artificial intelligence. \\nImbalanced learning has become an especially hot topic under some special issues (Yu et al. 2013), conference and'),\n",
       " Document(page_content='bioinformatics area can choose an effective technique  once the distribution of the data is known in advance. To the \\nbest of our knowledge, no previous comprehensive empirical investigations have been performed in comparing the \\nperformance of imbalanced data learning methods  with data distribution being consi dered.  \\nThe rest of the paper is organized as follows. Section II introduces the techniques to be evaluated in this study , while \\nthe details of datasets are presented in S ection III. The experimental design, performance metrics and classification \\nalgorithms are outlined in Section IV. Section V di scusses the experimental result . The c onclusion is  provided in \\nSection VI . 2 Methods to B e Evaluated  \\nGenerally speaking, approach es to classification with imbalanced data issues involve three main categories: \\nresampling, cost -sensitive methods and the ensemble methods (He and Garcia 2009) , (Yang et al. 2014), (Lin et al.')]"
      ]
     },
     "execution_count": 12,
     "metadata": {},
     "output_type": "execute_result"
    }
   ],
   "source": [
    "docs"
   ]
  },
  {
   "cell_type": "code",
   "execution_count": null,
   "metadata": {},
   "outputs": [],
   "source": [
    "def main():\n",
    "    st.title(\"Chat with your PDF 💬\")\n",
    "    \n",
    "    pdf = st.file_uploader('Upload your PDF Document', type='pdf')\n",
    "    \n",
    "    if pdf is not None:\n",
    "        pdf_reader = PdfReader(pdf)\n",
    "        # Text variable will store the pdf text\n",
    "        text = \"\"\n",
    "        for page in pdf_reader.pages:\n",
    "            text += page.extract_text()\n",
    "        \n",
    "        # Create the knowledge base object\n",
    "        knowledgeBase = process_text(text)\n",
    "        \n",
    "        query = st.text_input('Ask a question to the PDF')\n",
    "        cancel_button = st.button('Cancel')\n",
    "        \n",
    "        if cancel_button:\n",
    "            st.stop()\n",
    "        \n",
    "        if query:\n",
    "            docs = knowledgeBase.similarity_search(query)\n",
    "\n",
    "            llm = OpenAI()\n",
    "            chain = load_qa_chain(llm, chain_type='stuff')\n",
    "            \n",
    "            with get_openai_callback() as cost:\n",
    "                response = chain.run(input_documents=docs, question=query)\n",
    "                print(cost)\n",
    "                \n",
    "            st.write(response)\n",
    "            \n",
    "            \n",
    "if __name__ == \"__main__\":\n",
    "    main()"
   ]
  },
  {
   "cell_type": "code",
   "execution_count": 27,
   "metadata": {},
   "outputs": [
    {
     "data": {
      "text/plain": [
       "[Document(page_content='been conducted before. Most i mportantly, data distribution has  never been considered in previous  imbalanced \\nbiomedical data studies.   \\nDifferent from other related work, the experimentation study in this paper mainly  focuses  on resampling and feature \\nselection techniques  in class imbalance problem  with data distribution being considered as well . The main \\ncontribution s of this paper are as  follows : (1) we have conducted  an extensive experiment  study and (2) the relationship  \\nbetween  data distributions and different class imbalance  learning techniques have been discussed. Precisely, for the \\nformer  contribution: f irstly, our study focuses  on recently developed and popular ly used sampling techniques . In the \\nmeantime, considering that feature selection (FS) is also beneficial to imbalanced data learning, one of the recently \\ndeveloped FS approach es is also employed in this study (Yu et al. 2014). Secondly, five classification algorithms have'),\n",
       " Document(page_content='A Study of Data Pre -processing Techniques for Imbalanced Biomedical \\nData Classification  \\nShigang  Liu*; Jun  Zhang *; Yang Xiang; Wanlei Zhou; Dongxi Xiang \\nAddress:  \\nDepartment of Computer Science and Software Engineering , Swinburne University of \\nTechnology, Hawthorn , VIC 3122, Australia , email:  shigangliu@swin.edu.au \\nDepartment of Computer Science and Software Engineering , Swinburne University of \\nTechnology, Hawthorn , VIC 3122, Australia , email: junzhang@swin.edu.au \\nDepartment of Computer Science and Software Engineering , Swinburne University of \\nTechnology, Hawthorn , VIC 3122, Australia , yxiang@swin.edu.au  \\nSchool of Information Technology, Deakin University , Burwood, VIC 3125, Australia , \\nemail: wanlei@deakin.edu.au  \\nDepartment of Genetics, Harvard Medical School , Boston MA 02115, American , email:  \\ndxiangmedsci@gmail.com \\n \\nBiographical notes: \\nShigang Liu is a research fellow with School  of Software and Electrical Engineering,'),\n",
       " Document(page_content='poorly with the minority class. Traditional machine learning algorithms are desired to maximize overall number of \\ncorrect predictions without giving enough consideration of the minority examples. For exa mple, given a dataset, where \\nfive percent and ninety -five percent are minority class samples and majority class samples, respectively. If a classifier \\nrecognizes all data as the majority class, the classification accuracy would be ninety -five percent. Howe ver, this \\nclassifier is not useful in practice.  For many real -world problems, the class of interest is the minority class. How to \\naccurately identify the minority class sample is a more challenging problem. The problem has drawn significant \\ninterest since the year 2000 from data mining, knowledge discovery, machine learning and artificial intelligence. \\nImbalanced learning has become an especially hot topic under some special issues (Yu et al. 2013), conference and'),\n",
       " Document(page_content='bioinformatics area can choose an effective technique  once the distribution of the data is known in advance. To the \\nbest of our knowledge, no previous comprehensive empirical investigations have been performed in comparing the \\nperformance of imbalanced data learning methods  with data distribution being consi dered.  \\nThe rest of the paper is organized as follows. Section II introduces the techniques to be evaluated in this study , while \\nthe details of datasets are presented in S ection III. The experimental design, performance metrics and classification \\nalgorithms are outlined in Section IV. Section V di scusses the experimental result . The c onclusion is  provided in \\nSection VI . 2 Methods to B e Evaluated  \\nGenerally speaking, approach es to classification with imbalanced data issues involve three main categories: \\nresampling, cost -sensitive methods and the ensemble methods (He and Garcia 2009) , (Yang et al. 2014), (Lin et al.')]"
      ]
     },
     "execution_count": 27,
     "metadata": {},
     "output_type": "execute_result"
    }
   ],
   "source": [
    "docs"
   ]
  },
  {
   "cell_type": "code",
   "execution_count": null,
   "metadata": {},
   "outputs": [],
   "source": [
    "query = \"What is imbalanced data\"\n",
    "doc = docs.similarity_search(query)\n",
    "chain = load_qa_chain()\n"
   ]
  }
 ],
 "metadata": {
  "kernelspec": {
   "display_name": "base",
   "language": "python",
   "name": "python3"
  },
  "language_info": {
   "codemirror_mode": {
    "name": "ipython",
    "version": 3
   },
   "file_extension": ".py",
   "mimetype": "text/x-python",
   "name": "python",
   "nbconvert_exporter": "python",
   "pygments_lexer": "ipython3",
   "version": "3.11.4"
  }
 },
 "nbformat": 4,
 "nbformat_minor": 2
}
